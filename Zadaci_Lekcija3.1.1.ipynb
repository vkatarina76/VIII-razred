{
  "cells": [
    {
      "metadata": {},
      "cell_type": "markdown",
      "source": "Два задатка из дела Питања и задаци лекције \"Програмски језици и окружења погодни за анализу и обраду података\""
    },
    {
      "metadata": {},
      "cell_type": "markdown",
      "source": "2.\tУ одељењу од 25 ученика, 48% свих ученика су девојчице. Колико у том одељењу има девојчица? "
    },
    {
      "metadata": {
        "trusted": true
      },
      "cell_type": "code",
      "source": "odeljenje=25\nprocenat_devojcica=48/100\nukupno_devojcica=odeljenje*procenat_devojcica\n\nprint(\"У одељењу има \", ukupno_devojcica,\"девојчица\") ",
      "execution_count": 2,
      "outputs": [
        {
          "output_type": "stream",
          "text": "У одељењу има  12.0 девојчица\n",
          "name": "stdout"
        }
      ]
    },
    {
      "metadata": {},
      "cell_type": "markdown",
      "source": "3.\tПопуст од 15% доноси уштеду од 36 динара. Колика је цена била пре а колика после попуста. "
    },
    {
      "metadata": {
        "trusted": true
      },
      "cell_type": "code",
      "source": "usteda=36\n\ncenaprepopusta=usteda*100/15\n\nprint(\"Цена пре попуста \", cenaprepopusta) \n\ncenasapopustom=cenaprepopusta-usteda\n\nprint(\"Цена после попуста \", cenasapopustom)",
      "execution_count": 4,
      "outputs": [
        {
          "output_type": "stream",
          "text": "Цена пре попуста  240.0\nЦена после попуста  204.0\n",
          "name": "stdout"
        }
      ]
    }
  ],
  "metadata": {
    "kernelspec": {
      "name": "python36",
      "display_name": "Python 3.6",
      "language": "python"
    },
    "language_info": {
      "mimetype": "text/x-python",
      "nbconvert_exporter": "python",
      "name": "python",
      "pygments_lexer": "ipython3",
      "version": "3.6.6",
      "file_extension": ".py",
      "codemirror_mode": {
        "version": 3,
        "name": "ipython"
      }
    }
  },
  "nbformat": 4,
  "nbformat_minor": 1
}