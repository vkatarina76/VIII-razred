{
  "cells": [
    {
      "metadata": {},
      "cell_type": "markdown",
      "source": "Цена летовања за четворочлану породицу износи 150 000 динара. Ако се уплати до 1. марта цена летовања се умањује за 10%, а ако се уплати до 1. априла цена се умањује за 4%. Породица Ђоковић је уплатила летовање 15. фебруара, а породица Савић 15. маја. Колико је динара породица Ђоковић мање платила летовање од породице Савић?"
    },
    {
      "metadata": {
        "trusted": true
      },
      "cell_type": "code",
      "source": "cena = 90000\npor_Djok = cena * 90 / 100\npor_Sav = cena * 96 / 100\ncena=por_Sav-por_Djok\n\nprint(\"Породица Савић је платила\",por_Sav,\" а породица Ђоковић\", por_Djok)\nprint(\"Породица Ђоковић је платила\", cena, \"динара мање од породице Савић.\")",
      "execution_count": 1,
      "outputs": [
        {
          "output_type": "stream",
          "text": "Породица Савић је платила 86400.0  а породица Ђоковић 81000.0\nПородица Ђоковић је платила 5400.0 динара мање од породице Савић.\n",
          "name": "stdout"
        }
      ]
    }
  ],
  "metadata": {
    "kernelspec": {
      "name": "python36",
      "display_name": "Python 3.6",
      "language": "python"
    },
    "language_info": {
      "mimetype": "text/x-python",
      "nbconvert_exporter": "python",
      "name": "python",
      "pygments_lexer": "ipython3",
      "version": "3.6.6",
      "file_extension": ".py",
      "codemirror_mode": {
        "version": 3,
        "name": "ipython"
      }
    }
  },
  "nbformat": 4,
  "nbformat_minor": 1
}